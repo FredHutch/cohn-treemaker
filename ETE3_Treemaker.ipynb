{
 "cells": [
  {
   "cell_type": "markdown",
   "id": "3cad39d7",
   "metadata": {},
   "source": [
    "## Making Trees Through ETE3 Toolkit\n",
    "\n",
    "Notebook code for making tree visualizations where clones are collapsed into sequential leaves and leaves are also colored by Sequencing Type."
   ]
  },
  {
   "cell_type": "code",
   "execution_count": 2,
   "id": "f5953473",
   "metadata": {},
   "outputs": [],
   "source": [
    "# imports\n",
    "import pandas as pd\n",
    "import numpy as np\n",
    "import matplotlib.pyplot as plt\n",
    "\n",
    "from ete3 import Tree, TreeStyle, PhyloTree, TextFace, NodeStyle, SeqMotifFace\n",
    "from ete3 import faces, AttrFace, CircleFace, TextFace, RectFace"
   ]
  },
  {
   "cell_type": "code",
   "execution_count": 40,
   "id": "f248c79f",
   "metadata": {},
   "outputs": [
    {
     "data": {
      "text/plain": [
       "31"
      ]
     },
     "execution_count": 40,
     "metadata": {},
     "output_type": "execute_result"
    }
   ],
   "source": [
    "# Reading in newick tree file \n",
    "t = Tree(\"data/2153-reboundOutgrowth.tre\") # Tree not PhyloTree!\n",
    "\n",
    "# Midpoint rooting tree\n",
    "midpoint = t.get_midpoint_outgroup()\n",
    "t.set_outgroup(midpoint)\n",
    "\n",
    "# Ladderize tree\n",
    "t.ladderize()"
   ]
  },
  {
   "cell_type": "markdown",
   "id": "a5afb65a",
   "metadata": {},
   "source": [
    "Pulling sequence type annotation from leaf names. **REMEBER TO CHECK REBOUND PARSER**"
   ]
  },
  {
   "cell_type": "code",
   "execution_count": 41,
   "id": "717787d5",
   "metadata": {},
   "outputs": [],
   "source": [
    "# annotating Sequence Type\n",
    "for leaf in t.iter_leaves():\n",
    "    if \"22\" in leaf.name.split(\"_\"):  # Change Rebound Parser!!\n",
    "        leaf.add_feature(\"SeqType\", 'Rebound') \n",
    "    elif 'UDB' in leaf.name.split(\"_\")[1]:\n",
    "        leaf.add_feature(\"SeqType\", 'Control IgG Outgrowth')\n",
    "    elif 'AUB' in leaf.name.split(\"_\")[1]:\n",
    "        leaf.add_feature(\"SeqType\", 'Autologous IgG Outgrowth')\n",
    "    elif 'STB' in leaf.name.split(\"_\")[1]:\n",
    "        leaf.add_feature(\"SeqType\", 'No IgG Outgrowth')\n",
    "    else:\n",
    "        leaf.add_feature(\"SeqType\", False) # if none, annotate as False"
   ]
  },
  {
   "cell_type": "code",
   "execution_count": 42,
   "id": "be1d1685",
   "metadata": {},
   "outputs": [
    {
     "name": "stdout",
     "output_type": "stream",
     "text": [
      "SCOPE2153_STB101trim No IgG Outgrowth\n",
      "SCOPE2153_STB040trim No IgG Outgrowth\n",
      "SCOPE2153_STB090trim No IgG Outgrowth\n",
      "SCOPE2153_UDB062trim Control IgG Outgrowth\n",
      "2153_22_09_23GTGGTATA Rebound\n",
      "2153_22_09_23ATCCTAAA Rebound\n",
      "2153_22_09_23TCTGGTCT Rebound\n",
      "SCOPE2153_AUB096trim Autologous IgG Outgrowth\n",
      "SCOPE2153_AUB005trim Autologous IgG Outgrowth\n",
      "SCOPE2153_AUB024trim Autologous IgG Outgrowth\n",
      "SCOPE2153_AUB033trim Autologous IgG Outgrowth\n",
      "SCOPE2153_STB054trim No IgG Outgrowth\n",
      "SCOPE2153_STB064trim No IgG Outgrowth\n",
      "SCOPE2153_UDB047trim Control IgG Outgrowth\n",
      "SCOPE2153_UDB054trim Control IgG Outgrowth\n",
      "SCOPE2153_STB001trim No IgG Outgrowth\n",
      "SCOPE2153_AUB009trim Autologous IgG Outgrowth\n",
      "SCOPE2153_AUB038trim Autologous IgG Outgrowth\n",
      "SCOPE2153_STB042trim No IgG Outgrowth\n",
      "SCOPE2153_AUB037trim Autologous IgG Outgrowth\n",
      "SCOPE2153_AUB055trim Autologous IgG Outgrowth\n",
      "SCOPE2153_AUB095trim Autologous IgG Outgrowth\n",
      "SCOPE2153_STB012trim No IgG Outgrowth\n",
      "SCOPE2153_STB032trim No IgG Outgrowth\n",
      "SCOPE2153_STB025trim No IgG Outgrowth\n",
      "SCOPE2153_STB060trim No IgG Outgrowth\n",
      "SCOPE2153_UDB016trim Control IgG Outgrowth\n",
      "SCOPE2153_UDB018trim Control IgG Outgrowth\n",
      "SCOPE2153_UDB063trim Control IgG Outgrowth\n",
      "SCOPE2153_UDB067trim Control IgG Outgrowth\n",
      "SCOPE2153_AUB075trim Autologous IgG Outgrowth\n"
     ]
    }
   ],
   "source": [
    "# verify your SeqTypes are being annotated correctly:\n",
    "for leaf in t.iter_leaves():\n",
    "    print(leaf.name, leaf.SeqType)"
   ]
  },
  {
   "cell_type": "markdown",
   "id": "4f4c0400",
   "metadata": {},
   "source": [
    "Adding weight annotation to track clones. **Note: clone should be assessed by distance (threshold). If # of base pairs difference used, double check what threshold that equates to**"
   ]
  },
  {
   "cell_type": "code",
   "execution_count": 43,
   "id": "00e6a9e3",
   "metadata": {},
   "outputs": [
    {
     "name": "stderr",
     "output_type": "stream",
     "text": [
      "/var/folders/6q/p20nqm451ml8pz92lk8nx9br0000gp/T/ipykernel_59937/3497400271.py:4: FutureWarning: Downcasting object dtype arrays on .fillna, .ffill, .bfill is deprecated and will change in a future version. Call result.infer_objects(copy=False) instead. To opt-in to the future behavior, set `pd.set_option('future.no_silent_downcasting', True)`\n",
      "  leaf_df = leaf_df.fillna(0)\n"
     ]
    }
   ],
   "source": [
    "# Dataframe to track different SeqTypes that are clones\n",
    "df_cols = ['Rebound', 'Control IgG Outgrowth', 'Autologous IgG Outgrowth', 'No IgG Outgrowth']\n",
    "leaf_df = pd.DataFrame(index = [leaf.name for leaf in t.iter_leaves()], columns = df_cols)\n",
    "leaf_df = leaf_df.fillna(0)"
   ]
  },
  {
   "cell_type": "code",
   "execution_count": 44,
   "id": "96b4b38e",
   "metadata": {},
   "outputs": [],
   "source": [
    "# Add Definition for Weight:\n",
    "# Weigth if the # of clones, and which nodes should be removed in place\n",
    "threshold = 1e-06 # set threshold to be ~1 mutation (double check)\n",
    "\n",
    "def leaf_distance(leaf1, leaf2):\n",
    "    return t.get_distance(leaf1, leaf2)\n",
    "\n",
    "# Iterate through each leaf\n",
    "checked_neighbors = set() # set of every node that has been 'accounted' for\n",
    "\n",
    "# for every leaf...\n",
    "for leaf in t.iter_leaves():\n",
    "    if leaf in checked_neighbors:\n",
    "        # make sure it wasn't already counted for...\n",
    "        leaf.add_feature(\"Weight\", -1)\n",
    "    else:\n",
    "        weight = 0  # set counter to 0 \n",
    "        # check every other leaf\n",
    "        for other_leaf in t.iter_leaves():\n",
    "            # Exclude the same leaf AND check its not already accounted for\n",
    "            if other_leaf != leaf and other_leaf not in checked_neighbors:\n",
    "                distance = leaf_distance(leaf, other_leaf) # get distance\n",
    "                # if distance passes AND same SeqType\n",
    "                if distance <= threshold and leaf.SeqType == other_leaf.SeqType: \n",
    "                    # add to counter and mark as counted for \n",
    "                    weight += 1\n",
    "                    checked_neighbors.add(other_leaf)\n",
    "                elif distance <= threshold and leaf.SeqType != other_leaf.SeqType:\n",
    "                    leaf_df.loc[leaf.name, other_leaf.SeqType] = leaf_df.loc[leaf.name, other_leaf.SeqType] + 1\n",
    "                    checked_neighbors.add(other_leaf)\n",
    "        # Assign the weight as a feature to the leaf\n",
    "        leaf.add_feature(\"Weight\", weight)\n",
    "        # mark the current leaf as also counted for \n",
    "        checked_neighbors.add(leaf)"
   ]
  },
  {
   "cell_type": "markdown",
   "id": "8ea1d5e4",
   "metadata": {},
   "source": [
    "Plotting tree! Adjust the `t.render()` to either show `%%inline` or to save as a PDF,PNG or SVG file. (**Note: pruning removes clones from tree**)"
   ]
  },
  {
   "cell_type": "code",
   "execution_count": 46,
   "id": "6ffccc35",
   "metadata": {
    "scrolled": false
   },
   "outputs": [
    {
     "data": {
      "image/png": "[encoded data removed]",
      "text/plain": [
       "<IPython.core.display.Image object>"
      ]
     },
     "execution_count": 46,
     "metadata": {},
     "output_type": "execute_result"
    }
   ],
   "source": [
    "leaves_to_keep = []\n",
    "for leaf in t.iter_leaves():\n",
    "    if leaf.Weight != -1:\n",
    "        leaves_to_keep.append(leaf)\n",
    "t.prune(leaves_to_keep)\n",
    "\n",
    "# Colormap for seq type\n",
    "seqtype_cmap = {\n",
    "    \"Rebound\": \"#ffa600\",\n",
    "    \"Control IgG Outgrowth\": \"#63bfcf\",\n",
    "    \"Autologous IgG Outgrowth\": \"#DC3F93\",\n",
    "    \"No IgG Outgrowth\": \"#2B488C\",\n",
    "}\n",
    "\n",
    "\n",
    "# Setting node style\n",
    "def set_seqtype_color(node):\n",
    "    if \"SeqType\" in node.features:\n",
    "        nstyle = NodeStyle()\n",
    "        nstyle[\"fgcolor\"] = seqtype_cmap[node.SeqType]\n",
    "        nstyle[\"size\"] = 8\n",
    "        nstyle[\"hz_line_width\"] = 2\n",
    "        node.set_style(nstyle) \n",
    "def make_branches_bigger(node, new_size):\n",
    "    node.img_style[\"size\"] = 0\n",
    "    node.img_style[\"hz_line_width\"] = new_size # Change the horizotal lines stroke size\n",
    "    node.img_style[\"vt_line_width\"] = new_size # Change the vertical lines stroke size\n",
    "for node in t.traverse():\n",
    "    set_seqtype_color(node)\n",
    "    for c in node.children:\n",
    "        make_branches_bigger(c, 2)\n",
    "\n",
    "# plotting entire tree\n",
    "ts = TreeStyle()\n",
    "ts.show_leaf_name = False\n",
    "\n",
    "def custom_layout(node):\n",
    "    \"\"\"\n",
    "    This function creates the stacking of clonal sequences\n",
    "    \"\"\"\n",
    "    if 'Weight' in node.features:\n",
    "        if node.Weight != -1:\n",
    "            for i in range(node.Weight):\n",
    "                faces.add_face_to_node(faces.CircleFace(4, seqtype_cmap[node.SeqType]), \n",
    "                                   node, column=i*2+1, position=\"branch-right\")\n",
    "            spot_sum = node.Weight\n",
    "            # Go through the DF of different SeqTypes\n",
    "            if leaf_df.loc[node.name].sum() > 0:\n",
    "                for seq_type_i in df_cols:\n",
    "                    range_val = leaf_df.loc[node.name, seq_type_i]\n",
    "                    for i in range(range_val):\n",
    "                        faces.add_face_to_node(faces.CircleFace(4, seqtype_cmap[seq_type_i]), \n",
    "                                               node, column=spot_sum*2+1, position=\"branch-right\")\n",
    "                        spot_sum += 1\n",
    "ts.layout_fn = custom_layout\n",
    "\n",
    "ts.margin_left = 20\n",
    "ts.margin_right = 20\n",
    "ts.margin_top = 20\n",
    "\n",
    "# Setting root node\n",
    "rootstyle = NodeStyle()\n",
    "rootstyle[\"size\"] = 3\n",
    "rootstyle[\"fgcolor\"] = 'black'\n",
    "rootstyle[\"shape\"] = \"square\"\n",
    "rootstyle[\"vt_line_width\"] = 2\n",
    "rootstyle[\"hz_line_width\"] = 2\n",
    "t.set_style(rootstyle)\n",
    "\n",
    "# LEGEND INFORMATION\n",
    "ts.legend.add_face(TextFace(\" Rebound\", fsize=10), column=1)\n",
    "ts.legend.add_face(CircleFace(3, \"#ffa600\"), column=0)\n",
    "\n",
    "ts.legend.add_face(TextFace(\" Control IgG Outgrowth\", fsize=10), column=1)\n",
    "ts.legend.add_face(CircleFace(3, \"#63bfcf\"), column=0)\n",
    "\n",
    "ts.legend.add_face(TextFace(\" Autologous IgG Outgrowth\", fsize=10), column=1)\n",
    "ts.legend.add_face(CircleFace(3, \"#DC3F93\"), column=0)\n",
    "\n",
    "ts.legend.add_face(TextFace(\" No IgG Outgrowth\", fsize=10), column=1)\n",
    "ts.legend.add_face(CircleFace(3, \"#2B488C\"), column=0)\n",
    "ts.legend_position = 2\n",
    "\n",
    "# more space between branches\n",
    "ts.branch_vertical_margin = 2\n",
    "ts.scale = 10000 # def = 10000\n",
    "\n",
    "# showing plot\n",
    "t.render(\"%%inline\", tree_style=ts, w=4, dpi=200, units='in')"
   ]
  },
  {
   "cell_type": "code",
   "execution_count": 285,
   "id": "d3bc6b53",
   "metadata": {},
   "outputs": [
    {
     "data": {
      "text/plain": [
       "[Tree node '2637_23_08_12GACTGCCT' (0x16be4a9d),\n",
       " Tree node '2637_23_08_12AGGCGTAG' (0x16be4aa9),\n",
       " Tree node '2637_23_08_12ACGCGCAG' (0x16be4a81),\n",
       " Tree node '2637_23_08_12CAGGGCGC' (0x16be49c9),\n",
       " Tree node '2637_23_08_12GCCCCAGG' (0x16be4a75),\n",
       " Tree node '2637_23_08_12GCGTTTCG' (0x16be4af9),\n",
       " Tree node '2637_23_08_12GGATGAGT' (0x16be4b29),\n",
       " Tree node '2637_23_08_12GTAAGAAG' (0x16be4b09),\n",
       " Tree node '2637_23_08_12GTCCTCGG' (0x16be4b3d)]"
      ]
     },
     "execution_count": 285,
     "metadata": {},
     "output_type": "execute_result"
    }
   ],
   "source": [
    "t.get_leaves()"
   ]
  },
  {
   "cell_type": "code",
   "execution_count": 286,
   "id": "87e39b20",
   "metadata": {},
   "outputs": [
    {
     "data": {
      "text/plain": [
       "2e-08"
      ]
     },
     "execution_count": 286,
     "metadata": {},
     "output_type": "execute_result"
    }
   ],
   "source": [
    "t.get_distance('2637_23_08_12ACGCGCAG', '2637_23_08_12GGATGAGT')"
   ]
  },
  {
   "cell_type": "code",
   "execution_count": 251,
   "id": "06543bd8",
   "metadata": {},
   "outputs": [
    {
     "data": {
      "text/plain": [
       "0.00038949"
      ]
     },
     "execution_count": 251,
     "metadata": {},
     "output_type": "execute_result"
    }
   ],
   "source": [
    "t.get_distance('2637_23_08_12ACGCGCAG', '2637_23_08_12CAGGGCGC')"
   ]
  },
  {
   "cell_type": "code",
   "execution_count": 252,
   "id": "4286e6ae",
   "metadata": {},
   "outputs": [
    {
     "data": {
      "text/plain": [
       "0.0007790700000000001"
      ]
     },
     "execution_count": 252,
     "metadata": {},
     "output_type": "execute_result"
    }
   ],
   "source": [
    "t.get_distance('2637_23_08_12GCCCCAGG', '2637_23_08_12CAGGGCGC')"
   ]
  },
  {
   "cell_type": "code",
   "execution_count": null,
   "id": "8e42edde",
   "metadata": {},
   "outputs": [],
   "source": []
  }
 ],
 "metadata": {
  "kernelspec": {
   "display_name": "Python 3 (ipykernel)",
   "language": "python",
   "name": "python3"
  },
  "language_info": {
   "codemirror_mode": {
    "name": "ipython",
    "version": 3
   },
   "file_extension": ".py",
   "mimetype": "text/x-python",
   "name": "python",
   "nbconvert_exporter": "python",
   "pygments_lexer": "ipython3",
   "version": "3.12.6"
  }
 },
 "nbformat": 4,
 "nbformat_minor": 5
}
